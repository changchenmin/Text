{
 "cells": [
  {
   "cell_type": "code",
   "execution_count": 8,
   "metadata": {
    "collapsed": true,
    "pycharm": {
     "name": "#%%\n"
    }
   },
   "outputs": [
    {
     "data": {
      "text/plain": "'%.3f'"
     },
     "execution_count": 8,
     "metadata": {},
     "output_type": "execute_result"
    }
   ],
   "source": [
    "# 讀取numpy函式庫\n",
    "import numpy as np\n",
    "# 用np內的random取代python的random\n",
    "import numpy.random as random\n",
    "# 讀取scipy函式庫\n",
    "import scipy as sp\n",
    "# 讀取pandas函式庫\n",
    "import pandas as pd\n",
    "from pandas import Series, DataFrame\n",
    "\n",
    "import matplotlib.pyplot as plt\n",
    "# 讀取matplotlib函式庫\n",
    "import matplotlib as mpl\n",
    "# 讀取seaborn函式庫\n",
    "import seaborn as sns\n",
    "%matplotlib inline\n",
    "\n",
    "# 意指\n",
    "%precision 3"
   ]
  },
  {
   "cell_type": "code",
   "execution_count": 9,
   "outputs": [
    {
     "data": {
      "text/plain": "array([ 9,  2,  3,  4, 10,  6,  7,  8,  1,  5])"
     },
     "execution_count": 9,
     "metadata": {},
     "output_type": "execute_result"
    }
   ],
   "source": [
    "# 製作陣列\n",
    "data = np.array([9, 2, 3, 4, 10, 6, 7, 8, 1, 5])\n",
    "data"
   ],
   "metadata": {
    "collapsed": false,
    "pycharm": {
     "name": "#%%\n"
    }
   }
  },
  {
   "cell_type": "code",
   "execution_count": 11,
   "outputs": [
    {
     "name": "stdout",
     "output_type": "stream",
     "text": [
      "資料類型: int32\n",
      "陣列維度: 1\n",
      "元素數量: 10\n"
     ]
    }
   ],
   "source": [
    "# 資料的型別\n",
    "print('資料類型:', data.dtype)\n",
    "# 陣列的維度\n",
    "print('陣列維度:', data.ndim)\n",
    "# 元素的數量\n",
    "print('元素數量:', data.size)"
   ],
   "metadata": {
    "collapsed": false,
    "pycharm": {
     "name": "#%%\n"
    }
   }
  },
  {
   "cell_type": "code",
   "execution_count": null,
   "outputs": [],
   "source": [
    "# 將各個數字乘上數倍\n",
    "print(data * 2)\n",
    "# 將各對應的數字進行運算\n",
    "print('乘法運算:', np.array([1, 2, 3, 4, 5]) * np.array([5, 4 , 3, 2, 1]))\n",
    "print('連乘:', np.array([1, 2, 3, 4, 5]) ** 2)\n",
    "print('除法運算:', np.array([1, 2, 3, 4, 5]) / np.array([5, 4, 3, 2, 1]))"
   ],
   "metadata": {
    "collapsed": false,
    "pycharm": {
     "name": "#%%\n"
    }
   }
  },
  {
   "cell_type": "code",
   "execution_count": 12,
   "outputs": [
    {
     "name": "stdout",
     "output_type": "stream",
     "text": [
      "原本的值: [ 9  2  3  4 10  6  7  8  1  5]\n",
      "由小到大排序: [ 1  2  3  4  5  6  7  8  9 10]\n",
      "由大到小排序: [10  9  8  7  6  5  4  3  2  1]\n"
     ]
    }
   ],
   "source": [
    "# 排序\n",
    "# 顯示目前的值\n",
    "print('原本的值:', data)\n",
    "# 顯示排序後的值(由小到大)\n",
    "data.sort()\n",
    "print('由小到大排序:', data)\n",
    "# 顯示排序後的值(由大到小)\n",
    "data[::-1].sort()\n",
    "print('由大到小排序:', data)\n"
   ],
   "metadata": {
    "collapsed": false,
    "pycharm": {
     "name": "#%%\n"
    }
   }
  },
  {
   "cell_type": "code",
   "execution_count": 13,
   "outputs": [
    {
     "name": "stdout",
     "output_type": "stream",
     "text": [
      "最小值(Min): 1\n",
      "最大值(Max): 10\n",
      "總和(Sum): 55\n",
      "累積和(Cum): [10 19 27 34 40 45 49 52 54 55]\n",
      "累積比例(Ratio): [0.182 0.345 0.491 0.618 0.727 0.818 0.891 0.945 0.982 1.   ]\n"
     ]
    }
   ],
   "source": [
    "# 最小值\n",
    "print('最小值(Min):', data.min())\n",
    "# 最大值\n",
    "print('最大值(Max):', data.max())\n",
    "# 總和\n",
    "print('總和(Sum):', data.sum())\n",
    "# 累積和\n",
    "print('累積和(Cum):', data.cumsum())\n",
    "# 累積比例 = 累積和 / 總和\n",
    "print('累積比例(Ratio):', data.cumsum() / data.sum())"
   ],
   "metadata": {
    "collapsed": false,
    "pycharm": {
     "name": "#%%\n"
    }
   }
  },
  {
   "cell_type": "code",
   "execution_count": 15,
   "outputs": [
    {
     "name": "stdout",
     "output_type": "stream",
     "text": [
      "含有5個亂數的陣列: [1.764 0.4   0.979 2.241 1.868]\n"
     ]
    }
   ],
   "source": [
    "# 亂數\n",
    "# 亂數種子:可以固定取得的亂數，裡面填的數字為代號，後續用相同的種子，會有相同的亂數值\n",
    "random.seed(0)\n",
    "# random.randn()常態分佈(平均為0,標準差為1)亂數\n",
    "rnd_data = random.randn(5)\n",
    "print('含有5個亂數的陣列:', rnd_data)\n",
    "# random.rand():均勻分布。0.0以上、小於1.0\n",
    "# random.random_sample():均勻分布。0.0以上、小於1.0(和rand的引數指定方法不同)\n",
    "# random.randint():均勻分布。任意範圍的整數\n",
    "# random.randn():常態分布。平均為0、標準差為1的整數\n",
    "# random.normal():常態分布。任意平均、標準差的亂數\n",
    "# random.binomial():二項分布的亂數\n",
    "# random.beta():貝他分布的亂數\n",
    "# random.gamma():伽瑪分布的亂數\n",
    "# random.chisquare():卡方分布的亂數\n"
   ],
   "metadata": {
    "collapsed": false,
    "pycharm": {
     "name": "#%%\n"
    }
   }
  },
  {
   "cell_type": "code",
   "execution_count": 16,
   "outputs": [
    {
     "name": "stdout",
     "output_type": "stream",
     "text": [
      "[10  8  7  1  1  2  7  8  8  1]\n",
      "[ 3 10  4  7  8  9  1  5  6  2]\n"
     ]
    }
   ],
   "source": [
    "# 資料的隨機取出\n",
    "data = np.array([9,2,3,4,10,6,7,8,1,5])\n",
    "\n",
    "# 隨機取出10個(允許重複，放回抽樣)\n",
    "print(random.choice(data, 10))\n",
    "# 隨機取出10個(不允許重複，不放回抽樣)\n",
    "print(random.choice(data, 10, replace = False))\n"
   ],
   "metadata": {
    "collapsed": false,
    "pycharm": {
     "name": "#%%\n"
    }
   }
  },
  {
   "cell_type": "code",
   "execution_count": 17,
   "outputs": [
    {
     "name": "stdout",
     "output_type": "stream",
     "text": [
      "3.28 ms ± 48.5 µs per loop (mean ± std. dev. of 7 runs, 100 loops each)\n",
      "364 µs ± 20.6 µs per loop (mean ± std. dev. of 7 runs, 1000 loops each)\n"
     ]
    }
   ],
   "source": [
    "# 比較有無使用numpy的速度\n",
    "# %timeit():檢查運算時間\n",
    "N = 10**6\n",
    "\n",
    "normal_data = [random.random() for _ in range(N)]\n",
    "numpy_random_data = np.array(normal_data)\n",
    "# 取總和:一般的處理\n",
    "%timeit sum(normal_data)\n",
    "# 取總和:numpy的處理\n",
    "%timeit np.sum(numpy_random_data)\n"
   ],
   "metadata": {
    "collapsed": false,
    "pycharm": {
     "name": "#%%\n"
    }
   }
  },
  {
   "cell_type": "code",
   "execution_count": 18,
   "outputs": [
    {
     "name": "stdout",
     "output_type": "stream",
     "text": [
      "[0 1 2 3 4 5 6 7 8]\n",
      "\n",
      "\n",
      "[[0 1 2]\n",
      " [3 4 5]\n",
      " [6 7 8]]\n",
      "\n",
      "\n",
      "[0 1 2]\n",
      "\n",
      "\n",
      "[0 3 6]\n",
      "\n",
      "\n",
      "[[ 9 10 11]\n",
      " [12 13 14]\n",
      " [15 16 17]]\n",
      "\n",
      "\n",
      "[[ 42  45  48]\n",
      " [150 162 174]\n",
      " [258 279 300]]\n",
      "\n",
      "\n",
      "[[  0  10  22]\n",
      " [ 36  52  70]\n",
      " [ 90 112 136]]\n"
     ]
    }
   ],
   "source": [
    "# 建立內容0-8的一維矩陣:np.arange()\n",
    "print(np.arange(9))\n",
    "print('\\n')\n",
    "# 建立內容0-8的3*3的矩陣np.reshape()\n",
    "array1 = np.arange(9).reshape(3,3)\n",
    "print(array1)\n",
    "print('\\n')\n",
    "# 顯示row0\n",
    "print(array1[0,:])\n",
    "print('\\n')\n",
    "# 顯示column0\n",
    "print(array1[:,0])\n",
    "print('\\n')\n",
    "\n",
    "# 建立內容9-17的3*3的矩陣\n",
    "array2 = np.arange(9,18).reshape(3,3)\n",
    "print(array2)\n",
    "print('\\n')\n",
    "# 矩陣的積\n",
    "print(np.dot(array1,array2))\n",
    "print('\\n')\n",
    "# 元素各自的積\n",
    "print(array1 * array2)"
   ],
   "metadata": {
    "collapsed": false,
    "pycharm": {
     "name": "#%%\n"
    }
   }
  },
  {
   "cell_type": "code",
   "execution_count": 21,
   "outputs": [
    {
     "name": "stdout",
     "output_type": "stream",
     "text": [
      "[[0 0 0]\n",
      " [0 0 0]]\n",
      "\n",
      "\n",
      "[[1. 1. 1.]\n",
      " [1. 1. 1.]]\n"
     ]
    }
   ],
   "source": [
    "# 元素0或1的矩陣:np.zeros(), np.ones()\n",
    "print(np.zeros((2,3), dtype = np.int64))\n",
    "print('\\n')\n",
    "print(np.ones((2,3), dtype = np.float64))"
   ],
   "metadata": {
    "collapsed": false,
    "pycharm": {
     "name": "#%%\n"
    }
   }
  },
  {
   "cell_type": "markdown",
   "source": [
    "練習一\n",
    "計算1到50的自然數總和，並顯示最後的計算結果的程式。(使用np.array來製作1到50的陣列，再來求得總和)"
   ],
   "metadata": {
    "collapsed": false
   }
  },
  {
   "cell_type": "code",
   "execution_count": 20,
   "outputs": [
    {
     "name": "stdout",
     "output_type": "stream",
     "text": [
      "[ 1  2  3  4  5  6  7  8  9 10 11 12 13 14 15 16 17 18 19 20 21 22 23 24\n",
      " 25 26 27 28 29 30 31 32 33 34 35 36 37 38 39 40 41 42 43 44 45 46 47 48\n",
      " 49 50]\n",
      "1275\n"
     ]
    }
   ],
   "source": [
    "numpy_sample_data = np.array([i for i in range(1,51)])\n",
    "print((numpy_sample_data))\n",
    "print('總和為:', numpy_sample_data.sum())\n"
   ],
   "metadata": {
    "collapsed": false,
    "pycharm": {
     "name": "#%%\n"
    }
   }
  },
  {
   "cell_type": "markdown",
   "source": [
    "練習二\n",
    "依據常態分布生成10個亂數並製作陣列，求其最小值、最大值、總和的程式"
   ],
   "metadata": {
    "collapsed": false,
    "pycharm": {
     "name": "#%% md\n"
    }
   }
  },
  {
   "cell_type": "code",
   "execution_count": 22,
   "outputs": [
    {
     "name": "stdout",
     "output_type": "stream",
     "text": [
      "最小値： -0.977277879876411\n",
      "最大値： 2.240893199201458\n",
      "合計： 7.380231707288347\n"
     ]
    }
   ],
   "source": [
    "random.seed(0)\n",
    "norm_random_sample_data = random.randn(10)\n",
    "\n",
    "print(\"最小値：\",norm_random_sample_data.min())\n",
    "print(\"最大値：\",norm_random_sample_data.max())\n",
    "print(\"合計：\",norm_random_sample_data.sum())\n"
   ],
   "metadata": {
    "collapsed": false,
    "pycharm": {
     "name": "#%%\n"
    }
   }
  },
  {
   "cell_type": "markdown",
   "source": [
    "練習三\n",
    "製作所有元素均為3的5*5陣列，並計算該矩陣的平方"
   ],
   "metadata": {
    "collapsed": false
   }
  },
  {
   "cell_type": "code",
   "execution_count": 23,
   "outputs": [
    {
     "name": "stdout",
     "output_type": "stream",
     "text": [
      "[[45 45 45 45 45]\n",
      " [45 45 45 45 45]\n",
      " [45 45 45 45 45]\n",
      " [45 45 45 45 45]\n",
      " [45 45 45 45 45]]\n"
     ]
    }
   ],
   "source": [
    "m =  np.ones((5,5),dtype='i') * 3\n",
    "print(np.dot(m, m))\n"
   ],
   "metadata": {
    "collapsed": false,
    "pycharm": {
     "name": "#%%\n"
    }
   }
  }
 ],
 "metadata": {
  "kernelspec": {
   "display_name": "Python 3",
   "language": "python",
   "name": "python3"
  },
  "language_info": {
   "codemirror_mode": {
    "name": "ipython",
    "version": 2
   },
   "file_extension": ".py",
   "mimetype": "text/x-python",
   "name": "python",
   "nbconvert_exporter": "python",
   "pygments_lexer": "ipython2",
   "version": "2.7.6"
  }
 },
 "nbformat": 4,
 "nbformat_minor": 0
}