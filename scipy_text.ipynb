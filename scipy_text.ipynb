{
 "cells": [
  {
   "cell_type": "code",
   "execution_count": 1,
   "metadata": {
    "collapsed": true
   },
   "outputs": [
    {
     "data": {
      "text/plain": "'%.3f'"
     },
     "execution_count": 1,
     "metadata": {},
     "output_type": "execute_result"
    }
   ],
   "source": [
    "# 讀取numpy函式庫\n",
    "import numpy as np\n",
    "# 用np內的random取代python的random\n",
    "import numpy.random as random\n",
    "\n",
    "# 讀取scipy函式庫\n",
    "import scipy as sp\n",
    "# 用於線性代數的函式庫\n",
    "import scipy.linalg as linalg\n",
    "# 用於最佳化計算(最小值)的函式\n",
    "from scipy.optimize import minimize_scalar\n",
    "\n",
    "# 讀取pandas函式庫\n",
    "import pandas as pd\n",
    "# 處理1維陣列的Series函式庫與處理2維陣列的DataFrame函式庫\n",
    "from pandas import Series, DataFrame\n",
    "\n",
    "# 讓pyplot能以別名plt來執行，多數的描繪功能都在pyplot內\n",
    "import matplotlib.pyplot as plt\n",
    "# 讀取matplotlib函式庫\n",
    "import matplotlib as mpl\n",
    "# seaborn函式庫能讓圖表更美觀\n",
    "import seaborn as sns\n",
    "# 在jupyter notebook上顯示圖表所必須的magic command\n",
    "%matplotlib inline\n",
    "\n",
    "# 意指顯示到小數點後第三位\n",
    "%precision 3"
   ]
  },
  {
   "cell_type": "code",
   "execution_count": 2,
   "outputs": [
    {
     "name": "stdout",
     "output_type": "stream",
     "text": [
      "行列式\n",
      "-4.0\n",
      "\n",
      "\n",
      "反矩陣\n",
      "[[ 0.  -0.5 -0.5]\n",
      " [-0.5 -0.  -0.5]\n",
      " [-0.5 -0.5  0. ]]\n",
      "\n",
      "\n",
      "[[1. 0. 0.]\n",
      " [0. 1. 0.]\n",
      " [0. 0. 1.]]\n",
      "\n",
      "\n",
      "特徵值\n",
      "[-1.+0.j  2.+0.j  2.+0.j]\n",
      "\n",
      "\n",
      "特徵向量\n",
      "[[ 0.577  0.816  0.408]\n",
      " [ 0.577 -0.408 -0.816]\n",
      " [ 0.577 -0.408  0.408]]\n"
     ]
    }
   ],
   "source": [
    "matrix = np.array([[1,-1,-1], [-1,1,-1], [-1,-1,1]])\n",
    "\n",
    "# 行列式\n",
    "print('行列式')\n",
    "print(linalg.det(matrix))\n",
    "print('\\n')\n",
    "# 反矩陣\n",
    "print('反矩陣')\n",
    "print(linalg.inv(matrix))\n",
    "print('\\n')\n",
    "# 驗證:原始矩陣與反矩陣的乘積會為單位矩陣\n",
    "print(matrix.dot(linalg.inv(matrix)))\n",
    "print('\\n')\n",
    "\n",
    "# 特徵值與特徵向量:linalg.eig()\n",
    "eig_value, eig_vector = linalg.eig(matrix)\n",
    "print('特徵值')\n",
    "print(eig_value)\n",
    "print('\\n')\n",
    "print('特徵向量')\n",
    "print(eig_vector)"
   ],
   "metadata": {
    "collapsed": false,
    "pycharm": {
     "name": "#%%\n"
    }
   }
  },
  {
   "cell_type": "code",
   "execution_count": 3,
   "outputs": [
    {
     "name": "stdout",
     "output_type": "stream",
     "text": [
      "-0.9999999852953906\n",
      "     fun: 0.0\n",
      "    nfev: 9\n",
      "     nit: 4\n",
      " success: True\n",
      "       x: -1.0000000000000002\n"
     ]
    }
   ],
   "source": [
    "# 牛頓法\n",
    "# 方程式求解\n",
    "# 函數的定義\n",
    "def my_function(x):\n",
    "    return (x**2 + 2*x + 1)\n",
    "\n",
    "# 匯入牛頓法\n",
    "from scipy.optimize import newton\n",
    "# 執行計算。求f(x)=0的x\n",
    "print(newton(my_function,0))\n",
    "\n",
    "# 求最小值:brent法\n",
    "print(minimize_scalar(my_function, method = 'Brent'))\n"
   ],
   "metadata": {
    "collapsed": false,
    "pycharm": {
     "name": "#%%\n"
    }
   }
  },
  {
   "cell_type": "markdown",
   "source": [
    "練習一                     [1 2 3]\n",
    "請對下面的矩陣計算行列式    A= [1 3 2]\n",
    "                          [3 1 2]"
   ],
   "metadata": {
    "collapsed": false
   }
  },
  {
   "cell_type": "code",
   "execution_count": 4,
   "outputs": [
    {
     "name": "stdout",
     "output_type": "stream",
     "text": [
      "行列式結果: -12.0\n"
     ]
    }
   ],
   "source": [
    "import scipy.linalg as linalg\n",
    "\n",
    "a = np.array([[1,2,3],[1,3,2],[3,1,2]])\n",
    "print('行列式結果:', linalg.det(a))\n"
   ],
   "metadata": {
    "collapsed": false,
    "pycharm": {
     "name": "#%%\n"
    }
   }
  },
  {
   "cell_type": "markdown",
   "source": [
    "練習二\n",
    "對練習一的矩陣，計算反矩陣、特徵值和特徵向量"
   ],
   "metadata": {
    "collapsed": false
   }
  },
  {
   "cell_type": "code",
   "execution_count": 5,
   "outputs": [
    {
     "name": "stdout",
     "output_type": "stream",
     "text": [
      "反矩陣結果:\n",
      " [[-0.333  0.083  0.417]\n",
      " [-0.333  0.583 -0.083]\n",
      " [ 0.667 -0.417 -0.083]]\n",
      "特徵值:\n",
      " [ 6.   +0.j -1.414+0.j  1.414+0.j]\n",
      "特徵向量:\n",
      " [[-0.577 -0.722  0.16 ]\n",
      " [-0.577 -0.143 -0.811]\n",
      " [-0.577  0.677  0.563]]\n"
     ]
    }
   ],
   "source": [
    "print('反矩陣結果:'+'\\n', linalg.inv(a))\n",
    "eig_value, eig_vector = linalg.eig(a)\n",
    "print('特徵值:'+'\\n', eig_value)\n",
    "print('特徵向量:'+'\\n', eig_vector)\n"
   ],
   "metadata": {
    "collapsed": false,
    "pycharm": {
     "name": "#%%\n"
    }
   }
  },
  {
   "cell_type": "markdown",
   "source": [
    "練習三\n",
    "使用牛頓法，求得能讓下面函數為0的解\n",
    "f(x)=x^3+2x+1"
   ],
   "metadata": {
    "collapsed": false
   }
  },
  {
   "cell_type": "code",
   "execution_count": 6,
   "outputs": [
    {
     "name": "stdout",
     "output_type": "stream",
     "text": [
      "-0.45339765151640365\n",
      "3.3306690738754696e-16\n"
     ]
    }
   ],
   "source": [
    "from scipy.optimize import newton\n",
    "def sample_function1(x):\n",
    "    return (x**3 + 2*x + 1)\n",
    "print(newton(sample_function1,0))\n",
    "# 驗證\n",
    "print(sample_function1(newton(sample_function1,0)))\n"
   ],
   "metadata": {
    "collapsed": false,
    "pycharm": {
     "name": "#%%\n"
    }
   }
  }
 ],
 "metadata": {
  "kernelspec": {
   "display_name": "Python 3",
   "language": "python",
   "name": "python3"
  },
  "language_info": {
   "codemirror_mode": {
    "name": "ipython",
    "version": 2
   },
   "file_extension": ".py",
   "mimetype": "text/x-python",
   "name": "python",
   "nbconvert_exporter": "python",
   "pygments_lexer": "ipython2",
   "version": "2.7.6"
  }
 },
 "nbformat": 4,
 "nbformat_minor": 0
}