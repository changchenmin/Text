{
 "cells": [
  {
   "cell_type": "code",
   "execution_count": null,
   "metadata": {
    "collapsed": true
   },
   "outputs": [],
   "source": [
    "# 讀取numpy函式庫\n",
    "import numpy as np\n",
    "# 用np內的random取代python的random\n",
    "import numpy.random as random\n",
    "\n",
    "# 讀取scipy函式庫\n",
    "import scipy as sp\n",
    "# 用於線性代數的函式庫\n",
    "import scipy.linalg as linalg\n",
    "# 用於最佳化計算(最小值)的函式\n",
    "from scipy.optimize import minimize_scalar\n",
    "\n",
    "# 讀取pandas函式庫\n",
    "import pandas as pd\n",
    "# 處理1維陣列的Series函式庫與處理2維陣列的DataFrame函式庫\n",
    "from pandas import Series, DataFrame\n",
    "\n",
    "# 讓pyplot能以別名plt來執行，多數的描繪功能都在pyplot內\n",
    "import matplotlib.pyplot as plt\n",
    "# 讀取matplotlib函式庫\n",
    "import matplotlib as mpl\n",
    "# seaborn函式庫能讓圖表更美觀\n",
    "import seaborn as sns\n",
    "sns.set()\n",
    "# 在jupyter notebook上顯示圖表所必須的magic command\n",
    "%matplotlib inline\n",
    "\n",
    "from sklearn import  linear_model\n",
    "\n",
    "# 從Web取得資料、處理ZIP檔案格式的函式庫\n",
    "# requests:接收與傳送Web的資料\n",
    "# zipfile:讀取ZIP格式的檔案\n",
    "import requests, zipfile\n",
    "# io:讀取檔案\n",
    "from io import StringIO\n",
    "import io\n",
    "\n",
    "# 意指顯示到小數點後第三位\n",
    "%precision 3"
   ]
  }
 ],
 "metadata": {
  "kernelspec": {
   "display_name": "Python 3",
   "language": "python",
   "name": "python3"
  },
  "language_info": {
   "codemirror_mode": {
    "name": "ipython",
    "version": 2
   },
   "file_extension": ".py",
   "mimetype": "text/x-python",
   "name": "python",
   "nbconvert_exporter": "python",
   "pygments_lexer": "ipython2",
   "version": "2.7.6"
  }
 },
 "nbformat": 4,
 "nbformat_minor": 0
}